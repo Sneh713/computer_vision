{
 "cells": [
  {
   "cell_type": "code",
   "execution_count": 64,
   "id": "ba67de62",
   "metadata": {},
   "outputs": [],
   "source": [
    "import numpy as np \n",
    "import matplotlib.pyplot as plt \n",
    "from sklearn.datasets import make_blobs"
   ]
  },
  {
   "cell_type": "markdown",
   "id": "9f90df4b",
   "metadata": {},
   "source": [
    "import numpy as np\n",
    "import matplotlib.pyplot as plt\n",
    "from sklearn.datasets import make_blobs"
   ]
  },
  {
   "cell_type": "code",
   "execution_count": 65,
   "id": "113c294a",
   "metadata": {},
   "outputs": [],
   "source": [
    "x,y=make_blobs?\n"
   ]
  },
  {
   "cell_type": "code",
   "execution_count": null,
   "id": "1344107d",
   "metadata": {},
   "outputs": [],
   "source": [
    "x,y=make_blobs"
   ]
  },
  {
   "cell_type": "code",
   "execution_count": 67,
   "id": "e6c4af8c",
   "metadata": {},
   "outputs": [],
   "source": [
    "x,y=make_blobs(n_samples=1000,n_features=2,centers=2,random_state=10)"
   ]
  },
  {
   "cell_type": "code",
   "execution_count": 68,
   "id": "97edf72d",
   "metadata": {},
   "outputs": [
    {
     "name": "stdout",
     "output_type": "stream",
     "text": [
      "(1000, 2) (1000,)\n"
     ]
    }
   ],
   "source": [
    "print(x.shape,y.shape)"
   ]
  },
  {
   "cell_type": "code",
   "execution_count": 69,
   "id": "8950305c",
   "metadata": {},
   "outputs": [
    {
     "data": {
      "image/png": "[encoded data removed]",
      "text/plain": [
       "<Figure size 432x288 with 1 Axes>"
      ]
     },
     "metadata": {
      "needs_background": "light"
     },
     "output_type": "display_data"
    }
   ],
   "source": [
    "plt.scatter(x[:,0],x[:,1],c=y)\n",
    "plt.show()"
   ]
  },
  {
   "cell_type": "code",
   "execution_count": 70,
   "id": "9148118a",
   "metadata": {},
   "outputs": [],
   "source": [
    "def sigmoid(z):\n",
    "    return (1.0)/(1+np.exp(-z))"
   ]
  },
  {
   "cell_type": "code",
   "execution_count": 71,
   "id": "563475df",
   "metadata": {},
   "outputs": [
    {
     "data": {
      "text/plain": [
       "0.9933071490757153"
      ]
     },
     "execution_count": 71,
     "metadata": {},
     "output_type": "execute_result"
    }
   ],
   "source": [
    "sigmoid(5)"
   ]
  },
  {
   "cell_type": "code",
   "execution_count": 72,
   "id": "3dbc645b",
   "metadata": {},
   "outputs": [
    {
     "data": {
      "text/plain": [
       "array([0.73105858, 0.88079708, 0.95257413, 0.98201379])"
      ]
     },
     "execution_count": 72,
     "metadata": {},
     "output_type": "execute_result"
    }
   ],
   "source": [
    "z=np.array([1,2,3,4])  #broadcasting\n",
    "sigmoid(z)"
   ]
  },
  {
   "cell_type": "code",
   "execution_count": 73,
   "id": "6d201894",
   "metadata": {},
   "outputs": [],
   "source": [
    "def predict(x,weights):\n",
    "    z=np.dot(x,weights)\n",
    "    pre=sigmoid(z)\n",
    "    return pre"
   ]
  },
  {
   "cell_type": "code",
   "execution_count": 74,
   "id": "39476702",
   "metadata": {},
   "outputs": [],
   "source": [
    "def loss(x,y,weights):\n",
    "    # binary cross entropy\n",
    "    y_=predict(x,weights)\n",
    "    cost=np.mean(-y*np.log(y_)-(1-y)*np.log(1-y_))\n",
    "    return cost"
   ]
  },
  {
   "cell_type": "code",
   "execution_count": 75,
   "id": "177f196c",
   "metadata": {},
   "outputs": [],
   "source": [
    "def update(x,y,weights,lr):\n",
    "    y_=predict(x,weights)\n",
    "    dw=np.dot(x.T,y_-y)\n",
    "    m=x.shape[0]\n",
    "    weights=weights-lr*dw/(float(m))\n",
    "    return weights"
   ]
  },
  {
   "cell_type": "code",
   "execution_count": 76,
   "id": "6b973b6d",
   "metadata": {},
   "outputs": [],
   "source": [
    "def train(x,y,lr=0.5,maxE=100):\n",
    "    ones=np.ones((x.shape[0],1))\n",
    "    x=np.hstack((ones,x))\n",
    "    weights=np.zeros(x.shape[1])\n",
    "    for epoch in range(maxE):\n",
    "        weights=update(x,y,weights,lr)\n",
    "        if epoch%10==0:\n",
    "            l=loss(x,y,weights)\n",
    "            print(\"epoch %d loss %.4f\"%(epoch,l))\n",
    "    return weights"
   ]
  },
  {
   "cell_type": "code",
   "execution_count": 77,
   "id": "aa1e746d",
   "metadata": {},
   "outputs": [
    {
     "name": "stdout",
     "output_type": "stream",
     "text": [
      "epoch 0 loss 0.0002\n",
      "epoch 10 loss 0.0002\n",
      "epoch 20 loss 0.0002\n",
      "epoch 30 loss 0.0002\n",
      "epoch 40 loss 0.0002\n",
      "epoch 50 loss 0.0002\n",
      "epoch 60 loss 0.0002\n",
      "epoch 70 loss 0.0002\n",
      "epoch 80 loss 0.0002\n",
      "epoch 90 loss 0.0002\n",
      "epoch 100 loss 0.0002\n",
      "epoch 110 loss 0.0002\n",
      "epoch 120 loss 0.0002\n",
      "epoch 130 loss 0.0002\n",
      "epoch 140 loss 0.0002\n",
      "epoch 150 loss 0.0002\n",
      "epoch 160 loss 0.0002\n",
      "epoch 170 loss 0.0002\n",
      "epoch 180 loss 0.0002\n",
      "epoch 190 loss 0.0001\n",
      "epoch 200 loss 0.0001\n",
      "epoch 210 loss 0.0001\n",
      "epoch 220 loss 0.0001\n",
      "epoch 230 loss 0.0001\n",
      "epoch 240 loss 0.0001\n",
      "epoch 250 loss 0.0001\n",
      "epoch 260 loss 0.0001\n",
      "epoch 270 loss 0.0001\n",
      "epoch 280 loss 0.0001\n",
      "epoch 290 loss 0.0001\n",
      "epoch 300 loss 0.0001\n",
      "epoch 310 loss 0.0001\n",
      "epoch 320 loss 0.0001\n",
      "epoch 330 loss 0.0001\n",
      "epoch 340 loss 0.0001\n",
      "epoch 350 loss 0.0001\n",
      "epoch 360 loss 0.0001\n",
      "epoch 370 loss 0.0001\n",
      "epoch 380 loss 0.0001\n",
      "epoch 390 loss 0.0001\n",
      "epoch 400 loss 0.0001\n",
      "epoch 410 loss 0.0001\n",
      "epoch 420 loss 0.0001\n",
      "epoch 430 loss 0.0001\n",
      "epoch 440 loss 0.0001\n",
      "epoch 450 loss 0.0001\n",
      "epoch 460 loss 0.0001\n",
      "epoch 470 loss 0.0001\n",
      "epoch 480 loss 0.0001\n",
      "epoch 490 loss 0.0001\n",
      "[ 0.04296797 -0.29505507  2.33181379]\n"
     ]
    }
   ],
   "source": [
    "weights=train(x,y,0.6,500)\n",
    "print(weights)"
   ]
  },
  {
   "cell_type": "code",
   "execution_count": 78,
   "id": "3819264a",
   "metadata": {},
   "outputs": [],
   "source": [
    "def getpredict(x_text,weights,labels=True):\n",
    "    if x_text.shape[1] !=weights.shape[0]:\n",
    "        ones=np.ones((x_text.shape[0],1))\n",
    "        x_text=np.hstack((ones,x_text))\n",
    "    prob=predict(x_text,weights)\n",
    "    if not labels:\n",
    "        return prob\n",
    "    else:\n",
    "        labels=np.zeros(prob.shape)\n",
    "        labels[prob>=0.5]=1\n",
    "        return labels\n",
    "    "
   ]
  },
  {
   "cell_type": "code",
   "execution_count": 91,
   "id": "263070f6",
   "metadata": {},
   "outputs": [
    {
     "name": "stdout",
     "output_type": "stream",
     "text": [
      "(1000, 2) (1000,)\n"
     ]
    },
    {
     "data": {
      "image/png": "[encoded data removed]",
      "text/plain": [
       "<Figure size 432x288 with 1 Axes>"
      ]
     },
     "metadata": {
      "needs_background": "light"
     },
     "output_type": "display_data"
    }
   ],
   "source": [
    "x1=np.linspace(-2,2,100)\n",
    "x2=-(weights[0]+weights[1]*x1)/weights[2]\n",
    "print(x.shape,y.shape)\n",
    "plt.scatter(x[:,0],x[:,1],c=y,cmap=plt.cm.Accent)\n",
    "plt.plot(x1,x2,c='red')\n",
    "plt.show()"
   ]
  },
  {
   "cell_type": "code",
   "execution_count": 54,
   "id": "efa17e2b",
   "metadata": {},
   "outputs": [],
   "source": [
    "y_=getpredict(x,w)"
   ]
  },
  {
   "cell_type": "code",
   "execution_count": 56,
   "id": "91b863ff",
   "metadata": {},
   "outputs": [],
   "source": [
    "#find acc"
   ]
  },
  {
   "cell_type": "code",
   "execution_count": 57,
   "id": "23d7a8b2",
   "metadata": {},
   "outputs": [],
   "source": [
    "traningacc=np.sum(y_==y)/y.shape[0]"
   ]
  },
  {
   "cell_type": "code",
   "execution_count": 58,
   "id": "d6cc6782",
   "metadata": {},
   "outputs": [
    {
     "name": "stdout",
     "output_type": "stream",
     "text": [
      "[0. 0. 0. 1. 1. 1. 1. 1. 1. 1. 1. 1. 1. 1. 1. 1. 0. 0. 1. 0. 1. 1. 0. 0.\n",
      " 0. 1. 1. 0. 1. 1. 0. 1. 1. 0. 0. 1. 0. 0. 1. 1. 0. 1. 1. 0. 1. 1. 1. 1.\n",
      " 0. 0. 0. 0. 0. 0. 0. 1. 1. 0. 0. 0. 0. 1. 0. 1. 1. 1. 1. 0. 1. 1. 0. 1.\n",
      " 0. 0. 1. 1. 1. 1. 1. 0. 1. 0. 0. 0. 0. 0. 0. 1. 0. 1. 1. 0. 1. 0. 1. 0.\n",
      " 1. 0. 0. 1. 1. 1. 0. 0. 1. 0. 1. 0. 1. 0. 1. 0. 0. 0. 0. 0. 0. 0. 0. 1.\n",
      " 0. 1. 1. 0. 1. 0. 0. 1. 1. 0. 1. 0. 0. 0. 1. 1. 0. 1. 1. 1. 1. 0. 1. 0.\n",
      " 0. 1. 1. 1. 1. 1. 1. 1. 0. 0. 0. 1. 1. 0. 1. 0. 0. 1. 0. 1. 1. 1. 0. 0.\n",
      " 1. 1. 0. 1. 0. 0. 1. 0. 1. 1. 1. 1. 1. 1. 1. 0. 0. 1. 0. 1. 0. 1. 1. 0.\n",
      " 0. 1. 0. 0. 0. 1. 1. 1. 0. 0. 1. 1. 1. 0. 0. 0. 1. 1. 0. 1. 0. 0. 1. 1.\n",
      " 0. 0. 1. 0. 0. 0. 1. 1. 0. 0. 0. 1. 1. 1. 0. 0. 0. 1. 1. 0. 1. 1. 1. 0.\n",
      " 0. 0. 1. 1. 1. 0. 0. 1. 1. 1. 0. 1. 1. 1. 0. 0. 1. 1. 0. 1. 0. 1. 0. 0.\n",
      " 0. 1. 0. 1. 0. 1. 1. 1. 1. 0. 0. 0. 0. 1. 0. 0. 0. 0. 1. 0. 1. 1. 1. 0.\n",
      " 1. 0. 0. 1. 1. 0. 0. 0. 0. 1. 1. 0. 1. 0. 0. 1. 0. 0. 1. 1. 0. 1. 1. 1.\n",
      " 0. 1. 0. 1. 0. 1. 1. 0. 1. 0. 1. 0. 0. 0. 0. 0. 0. 1. 0. 0. 1. 1. 1. 0.\n",
      " 1. 1. 0. 0. 0. 0. 0. 0. 1. 1. 1. 1. 0. 1. 1. 1. 0. 0. 0. 1. 1. 1. 1. 0.\n",
      " 1. 1. 0. 0. 1. 0. 0. 1. 0. 0. 1. 1. 0. 0. 0. 1. 0. 0. 1. 1. 1. 0. 1. 1.\n",
      " 0. 0. 1. 1. 1. 0. 1. 1. 1. 0. 1. 0. 1. 1. 0. 0. 1. 1. 1. 0. 1. 0. 0. 0.\n",
      " 1. 0. 1. 0. 1. 0. 0. 1. 1. 0. 1. 0. 1. 0. 0. 0. 1. 1. 1. 0. 1. 0. 0. 0.\n",
      " 0. 0. 0. 1. 1. 0. 1. 1. 0. 0. 1. 0. 0. 0. 0. 1. 1. 0. 0. 1. 1. 0. 1. 0.\n",
      " 1. 1. 0. 1. 1. 0. 0. 1. 0. 0. 1. 1. 1. 0. 1. 1. 0. 0. 0. 1. 1. 1. 0. 1.\n",
      " 1. 1. 0. 1. 0. 0. 0. 1. 1. 0. 0. 0. 0. 1. 1. 0. 0. 0. 0. 1. 1. 0. 0. 1.\n",
      " 0. 0. 1. 1. 1. 1. 1. 1. 0. 1. 1. 0. 1. 0. 1. 1. 0. 0. 0. 1. 1. 0. 1. 0.\n",
      " 1. 0. 1. 1. 1. 1. 1. 1. 1. 1. 1. 0. 1. 0. 1. 0. 1. 1. 0. 1. 0. 0. 1. 0.\n",
      " 0. 1. 0. 0. 1. 0. 1. 0. 0. 0. 1. 1. 1. 0. 0. 1. 0. 1. 1. 1. 1. 1. 0. 1.\n",
      " 0. 0. 0. 1. 0. 0. 0. 0. 0. 1. 0. 0. 0. 0. 1. 1. 1. 1. 1. 0. 1. 0. 1. 1.\n",
      " 0. 0. 1. 1. 1. 0. 1. 1. 1. 0. 0. 1. 0. 1. 1. 0. 0. 1. 0. 1. 1. 0. 0. 0.\n",
      " 0. 1. 1. 1. 0. 0. 1. 0. 0. 0. 0. 0. 0. 0. 0. 1. 1. 1. 1. 1. 1. 0. 1. 1.\n",
      " 0. 1. 0. 0. 0. 0. 0. 1. 1. 1. 1. 0. 1. 1. 1. 1. 0. 0. 1. 0. 1. 1. 0. 1.\n",
      " 1. 1. 0. 1. 1. 1. 0. 0. 1. 1. 0. 0. 0. 0. 0. 0. 0. 0. 1. 0. 1. 0. 1. 0.\n",
      " 0. 1. 1. 1. 1. 0. 1. 0. 1. 0. 0. 1. 1. 1. 0. 1. 0. 0. 1. 1. 0. 0. 0. 1.\n",
      " 0. 0. 1. 0. 0. 0. 1. 0. 0. 0. 0. 1. 0. 0. 0. 1. 1. 1. 0. 0. 0. 1. 0. 1.\n",
      " 0. 0. 0. 1. 0. 0. 1. 1. 0. 1. 0. 1. 1. 0. 1. 0. 0. 1. 0. 1. 1. 0. 1. 0.\n",
      " 0. 1. 1. 1. 0. 1. 1. 1. 1. 1. 0. 1. 0. 1. 0. 1. 0. 1. 0. 1. 1. 1. 1. 0.\n",
      " 0. 1. 0. 0. 1. 1. 0. 0. 1. 0. 0. 0. 0. 1. 1. 1. 0. 1. 0. 1. 0. 0. 0. 0.\n",
      " 0. 0. 0. 0. 0. 0. 1. 1. 0. 1. 0. 0. 0. 1. 1. 1. 0. 1. 0. 1. 1. 0. 1. 1.\n",
      " 0. 0. 0. 1. 0. 0. 1. 0. 1. 0. 0. 1. 1. 1. 1. 1. 0. 1. 1. 0. 0. 1. 1. 0.\n",
      " 1. 0. 0. 0. 1. 1. 0. 0. 0. 0. 1. 0. 1. 1. 1. 0. 1. 0. 0. 0. 0. 0. 0. 1.\n",
      " 1. 0. 0. 1. 1. 0. 0. 0. 1. 1. 1. 0. 0. 1. 0. 0. 0. 1. 0. 1. 1. 0. 0. 0.\n",
      " 0. 0. 0. 0. 1. 1. 1. 0. 1. 1. 1. 1. 0. 1. 0. 0. 1. 0. 1. 1. 1. 0. 0. 1.\n",
      " 0. 1. 0. 1. 1. 1. 0. 1. 1. 0. 0. 0. 1. 1. 0. 0. 1. 1. 0. 0. 0. 1. 1. 0.\n",
      " 0. 0. 1. 0. 0. 1. 1. 1. 0. 1. 0. 0. 0. 0. 1. 1. 1. 0. 1. 1. 1. 1. 0. 0.\n",
      " 1. 1. 1. 1. 0. 1. 1. 1. 0. 1. 0. 0. 0. 0. 1. 0.]\n"
     ]
    }
   ],
   "source": [
    "print(y_)"
   ]
  },
  {
   "cell_type": "code",
   "execution_count": 59,
   "id": "54b686c5",
   "metadata": {},
   "outputs": [
    {
     "name": "stdout",
     "output_type": "stream",
     "text": [
      "[0 0 0 1 1 1 1 1 1 1 1 1 1 1 1 1 0 0 1 0 1 1 0 0 0 1 1 0 1 1 0 1 1 0 0 1 0\n",
      " 0 1 1 0 1 1 0 1 1 1 1 0 0 0 0 0 0 0 1 1 0 0 0 0 1 0 1 1 1 1 0 1 1 0 1 0 0\n",
      " 1 1 1 1 1 0 1 0 0 0 0 0 0 1 0 1 1 0 1 0 1 0 1 0 0 1 1 1 0 0 1 0 1 0 1 0 1\n",
      " 0 0 0 0 0 0 0 0 1 0 1 1 0 1 0 0 1 1 0 1 0 0 0 1 1 0 1 1 1 1 0 1 0 0 1 1 1\n",
      " 1 1 1 1 0 0 0 1 1 0 1 0 0 1 0 1 1 1 0 0 1 1 0 1 0 0 1 0 1 1 1 1 1 1 1 0 0\n",
      " 1 0 1 0 1 1 0 0 1 0 0 0 1 1 1 0 0 1 1 1 0 0 0 1 1 0 1 0 0 1 1 0 0 1 0 0 0\n",
      " 1 1 0 0 0 1 1 1 0 0 0 1 1 0 1 1 1 0 0 0 1 1 1 0 0 1 1 1 0 1 1 1 0 0 1 1 0\n",
      " 1 0 1 0 0 0 1 0 1 0 1 1 1 1 0 0 0 0 1 0 0 0 0 1 0 1 1 1 0 1 0 0 1 1 0 0 0\n",
      " 0 1 1 0 1 0 0 1 0 0 1 1 0 1 1 1 0 1 0 1 0 1 1 0 1 0 1 0 0 0 0 0 0 1 0 0 1\n",
      " 1 1 0 1 1 0 0 0 0 0 0 1 1 1 1 0 1 1 1 0 0 0 1 1 1 1 0 1 1 0 0 1 0 0 1 0 0\n",
      " 1 1 0 0 0 1 0 0 1 1 1 0 1 1 0 0 1 1 1 0 1 1 1 0 1 0 1 1 0 0 1 1 1 0 1 0 0\n",
      " 0 1 0 1 0 1 0 0 1 1 0 1 0 1 0 0 0 1 1 1 0 1 0 0 0 0 0 0 1 1 0 1 1 0 0 1 0\n",
      " 0 0 0 1 1 0 0 1 1 0 1 0 1 1 0 1 1 0 0 1 0 0 1 1 1 0 1 1 0 0 0 1 1 1 0 1 1\n",
      " 1 0 1 0 0 0 1 1 0 0 0 0 1 1 0 0 0 0 1 1 0 0 1 0 0 1 1 1 1 1 1 0 1 1 0 1 0\n",
      " 1 1 0 0 0 1 1 0 1 0 1 0 1 1 1 1 1 1 1 1 1 0 1 0 1 0 1 1 0 1 0 0 1 0 0 1 0\n",
      " 0 1 0 1 0 0 0 1 1 1 0 0 1 0 1 1 1 1 1 0 1 0 0 0 1 0 0 0 0 0 1 0 0 0 0 1 1\n",
      " 1 1 1 0 1 0 1 1 0 0 1 1 1 0 1 1 1 0 0 1 0 1 1 0 0 1 0 1 1 0 0 0 0 1 1 1 0\n",
      " 0 1 0 0 0 0 0 0 0 0 1 1 1 1 1 1 0 1 1 0 1 0 0 0 0 0 1 1 1 1 0 1 1 1 1 0 0\n",
      " 1 0 1 1 0 1 1 1 0 1 1 1 0 0 1 1 0 0 0 0 0 0 0 0 1 0 1 0 1 0 0 1 1 1 1 0 1\n",
      " 0 1 0 0 1 1 1 0 1 0 0 1 1 0 0 0 1 0 0 1 0 0 0 1 0 0 0 0 1 0 0 0 1 1 1 0 0\n",
      " 0 1 0 1 0 0 0 1 0 0 1 1 0 1 0 1 1 0 1 0 0 1 0 1 1 0 1 0 0 1 1 1 0 1 1 1 1\n",
      " 1 0 1 0 1 0 1 0 1 0 1 1 1 1 0 0 1 0 0 1 1 0 0 1 0 0 0 0 1 1 1 0 1 0 1 0 0\n",
      " 0 0 0 0 0 0 0 0 1 1 0 1 0 0 0 1 1 1 0 1 0 1 1 0 1 1 0 0 0 1 0 0 1 0 1 0 0\n",
      " 1 1 1 1 1 0 1 1 0 0 1 1 0 1 0 0 0 1 1 0 0 0 0 1 0 1 1 1 0 1 0 0 0 0 0 0 1\n",
      " 1 0 0 1 1 0 0 0 1 1 1 0 0 1 0 0 0 1 0 1 1 0 0 0 0 0 0 0 1 1 1 0 1 1 1 1 0\n",
      " 1 0 0 1 0 1 1 1 0 0 1 0 1 0 1 1 1 0 1 1 0 0 0 1 1 0 0 1 1 0 0 0 1 1 0 0 0\n",
      " 1 0 0 1 1 1 0 1 0 0 0 0 1 1 1 0 1 1 1 1 0 0 1 1 1 1 0 1 1 1 0 1 0 0 0 0 1\n",
      " 0]\n"
     ]
    }
   ],
   "source": [
    "print(y)"
   ]
  },
  {
   "cell_type": "code",
   "execution_count": 60,
   "id": "0ed93c7e",
   "metadata": {},
   "outputs": [
    {
     "name": "stdout",
     "output_type": "stream",
     "text": [
      "1.0\n"
     ]
    }
   ],
   "source": [
    "print(traningacc)"
   ]
  },
  {
   "cell_type": "code",
   "execution_count": null,
   "id": "39b16c97",
   "metadata": {},
   "outputs": [],
   "source": []
  }
 ],
 "metadata": {
  "kernelspec": {
   "display_name": "Python 3",
   "language": "python",
   "name": "python3"
  },
  "language_info": {
   "codemirror_mode": {
    "name": "ipython",
    "version": 3
   },
   "file_extension": ".py",
   "mimetype": "text/x-python",
   "name": "python",
   "nbconvert_exporter": "python",
   "pygments_lexer": "ipython3",
   "version": "3.8.8"
  }
 },
 "nbformat": 4,
 "nbformat_minor": 5
}
